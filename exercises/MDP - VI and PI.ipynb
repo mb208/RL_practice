{
 "cells": [
  {
   "cell_type": "code",
   "execution_count": 2,
   "id": "ce01dfca",
   "metadata": {},
   "outputs": [],
   "source": [
    "import gym\n",
    "import gym_gridworlds\n",
    "\n",
    "import numpy as np"
   ]
  },
  {
   "cell_type": "code",
   "execution_count": 3,
   "id": "1e034521",
   "metadata": {},
   "outputs": [],
   "source": [
    "env = gym.make('Gridworld-v0') "
   ]
  },
  {
   "cell_type": "markdown",
   "id": "61c49a3d",
   "metadata": {},
   "source": [
    "![title](img/ex4_1.png)"
   ]
  },
  {
   "cell_type": "code",
   "execution_count": 72,
   "id": "7ff22d44",
   "metadata": {},
   "outputs": [
    {
     "data": {
      "text/plain": [
       "array([[0., 1., 0., 0., 0., 0., 0., 0., 0., 0., 0., 0., 0., 0., 0.],\n",
       "       [0., 0., 1., 0., 0., 0., 0., 0., 0., 0., 0., 0., 0., 0., 0.],\n",
       "       [0., 0., 0., 0., 0., 1., 0., 0., 0., 0., 0., 0., 0., 0., 0.],\n",
       "       [1., 0., 0., 0., 0., 0., 0., 0., 0., 0., 0., 0., 0., 0., 0.]])"
      ]
     },
     "execution_count": 72,
     "metadata": {},
     "output_type": "execute_result"
    }
   ],
   "source": [
    "env.P[:,1,:]"
   ]
  },
  {
   "cell_type": "markdown",
   "id": "b66ee8ba",
   "metadata": {},
   "source": [
    "Above is the transition matrix for state-action pairs when in state 1 i.e. $p(s^{'} | s=1, a)$ for $a \\in \\{\\text{up, down, left, right}\\}$.    \n",
    "\n",
    "\n",
    "Rows are actions, columns are states. \n",
    "\n",
    "\n",
    "It is clear from the matrix that \n",
    "   - row 0 is up\n",
    "   - row 1 is right\n",
    "   - row 2 is down\n",
    "   - row 3 is left"
   ]
  },
  {
   "cell_type": "code",
   "execution_count": 126,
   "id": "c6c95ca4",
   "metadata": {},
   "outputs": [],
   "source": [
    "def value_iteration(P, R, gamma=1, tol=1e-15):\n",
    "    A,S = R.shape\n",
    "    V = np.zeros(S)\n",
    "    \n",
    "    while True:\n",
    "        v = V.copy()\n",
    "        for s in range(V.size):\n",
    "            V[s] = np.max((P[:, s, :]*(R[:,s].reshape((4, -1)) + gamma*V[None, :])).sum(1))\n",
    "            \n",
    "        \n",
    "        delta = np.abs(v - V).max()\n",
    "        \n",
    "        if delta < tol:\n",
    "            break\n",
    "        \n",
    "    \n",
    "    return V"
   ]
  },
  {
   "cell_type": "code",
   "execution_count": 145,
   "id": "dba33b50",
   "metadata": {},
   "outputs": [],
   "source": [
    "def policy_evaluation(pi, P, R, gamma=1, tol=1e-15):\n",
    "    A,S = R.shape\n",
    "    V = np.zeros(S)\n",
    "    \n",
    "    while True:\n",
    "        v = V.copy()\n",
    "        for s in range(V.size):\n",
    "            V[s] = pi[s] @ (P[:, s, :]*(R[:,s].reshape((4, -1)) + gamma*V[None, :] )).sum(1)\n",
    "            \n",
    "        \n",
    "        delta = np.abs(v - V).max()\n",
    "        \n",
    "        if delta < tol:\n",
    "            break\n",
    "        \n",
    "    \n",
    "    return V"
   ]
  },
  {
   "cell_type": "code",
   "execution_count": 163,
   "id": "a113346a",
   "metadata": {},
   "outputs": [],
   "source": [
    "def policy_improvement(P, R, V, gamma=1, tol=1e-15):\n",
    "    A,S = R.shape\n",
    "    \n",
    "    pi = np.zeros((15,4))\n",
    "    for s in range(V.size):\n",
    "        pi_old = pi.copy()\n",
    "        pi[s] = 0\n",
    "        action_values = (P[:, s, :]*(R[:,s].reshape((4, -1)) + gamma*V[None, :] )).sum(1)\n",
    "\n",
    "        pi_opt = np.argmax(action_values)\n",
    "        pi[s,pi_opt] = 1\n",
    "\n",
    "    return pi"
   ]
  },
  {
   "cell_type": "code",
   "execution_count": 164,
   "id": "56a51c67",
   "metadata": {},
   "outputs": [],
   "source": [
    "def policy_iteration(pi, P, R, gamma=1, tol=1e-15):\n",
    "    \n",
    "    while True:\n",
    "        pi_old = pi.copy()\n",
    "        V = policy_evaluation(pi, P, R)\n",
    "        \n",
    "        pi = policy_improvement(P, R, V)\n",
    "        \n",
    "        if np.array_equal(pi, pi_old):\n",
    "            break\n",
    "        \n",
    "    return pi, V\n",
    "        "
   ]
  },
  {
   "cell_type": "code",
   "execution_count": 140,
   "id": "f7bc5c41",
   "metadata": {},
   "outputs": [],
   "source": [
    "equi_policy = np.ones((env.observation_space.n, env.action_space.n)) / env.action_space.n"
   ]
  },
  {
   "cell_type": "code",
   "execution_count": 141,
   "id": "e909cdcc",
   "metadata": {},
   "outputs": [
    {
     "data": {
      "text/plain": [
       "array([[0.25, 0.25, 0.25, 0.25],\n",
       "       [0.25, 0.25, 0.25, 0.25],\n",
       "       [0.25, 0.25, 0.25, 0.25],\n",
       "       [0.25, 0.25, 0.25, 0.25],\n",
       "       [0.25, 0.25, 0.25, 0.25],\n",
       "       [0.25, 0.25, 0.25, 0.25],\n",
       "       [0.25, 0.25, 0.25, 0.25],\n",
       "       [0.25, 0.25, 0.25, 0.25],\n",
       "       [0.25, 0.25, 0.25, 0.25],\n",
       "       [0.25, 0.25, 0.25, 0.25],\n",
       "       [0.25, 0.25, 0.25, 0.25],\n",
       "       [0.25, 0.25, 0.25, 0.25],\n",
       "       [0.25, 0.25, 0.25, 0.25],\n",
       "       [0.25, 0.25, 0.25, 0.25],\n",
       "       [0.25, 0.25, 0.25, 0.25]])"
      ]
     },
     "execution_count": 141,
     "metadata": {},
     "output_type": "execute_result"
    }
   ],
   "source": [
    "equi_policy"
   ]
  },
  {
   "cell_type": "code",
   "execution_count": 166,
   "id": "35968966",
   "metadata": {},
   "outputs": [
    {
     "data": {
      "text/plain": [
       "(array([[1., 0., 0., 0.],\n",
       "        [0., 0., 0., 1.],\n",
       "        [0., 0., 0., 1.],\n",
       "        [0., 0., 1., 0.],\n",
       "        [1., 0., 0., 0.],\n",
       "        [1., 0., 0., 0.],\n",
       "        [1., 0., 0., 0.],\n",
       "        [0., 0., 1., 0.],\n",
       "        [1., 0., 0., 0.],\n",
       "        [1., 0., 0., 0.],\n",
       "        [0., 1., 0., 0.],\n",
       "        [0., 0., 1., 0.],\n",
       "        [1., 0., 0., 0.],\n",
       "        [0., 1., 0., 0.],\n",
       "        [0., 1., 0., 0.]]),\n",
       " array([ 0., -1., -2., -3., -1., -2., -3., -2., -2., -3., -2., -1., -3.,\n",
       "        -2., -1.]))"
      ]
     },
     "execution_count": 166,
     "metadata": {},
     "output_type": "execute_result"
    }
   ],
   "source": [
    "policy_iteration(equi_policy, env.P, env.R)"
   ]
  },
  {
   "cell_type": "code",
   "execution_count": 168,
   "id": "188c9192",
   "metadata": {},
   "outputs": [
    {
     "data": {
      "text/plain": [
       "array([ 0., -1., -2., -3., -1., -2., -3., -2., -2., -3., -2., -1., -3.,\n",
       "       -2., -1.])"
      ]
     },
     "execution_count": 168,
     "metadata": {},
     "output_type": "execute_result"
    }
   ],
   "source": [
    "V = value_iteration(env.P, env.R); V"
   ]
  },
  {
   "cell_type": "code",
   "execution_count": 170,
   "id": "11f6bf5f",
   "metadata": {},
   "outputs": [
    {
     "data": {
      "text/plain": [
       "array([[1., 0., 0., 0.],\n",
       "       [0., 0., 0., 1.],\n",
       "       [0., 0., 0., 1.],\n",
       "       [0., 0., 1., 0.],\n",
       "       [1., 0., 0., 0.],\n",
       "       [1., 0., 0., 0.],\n",
       "       [1., 0., 0., 0.],\n",
       "       [0., 0., 1., 0.],\n",
       "       [1., 0., 0., 0.],\n",
       "       [1., 0., 0., 0.],\n",
       "       [0., 1., 0., 0.],\n",
       "       [0., 0., 1., 0.],\n",
       "       [1., 0., 0., 0.],\n",
       "       [0., 1., 0., 0.],\n",
       "       [0., 1., 0., 0.]])"
      ]
     },
     "execution_count": 170,
     "metadata": {},
     "output_type": "execute_result"
    }
   ],
   "source": [
    "policy_improvement(env.P, env.R, V)"
   ]
  },
  {
   "cell_type": "code",
   "execution_count": null,
   "id": "8e463040",
   "metadata": {},
   "outputs": [],
   "source": []
  }
 ],
 "metadata": {
  "kernelspec": {
   "display_name": "Python 3",
   "language": "python",
   "name": "python3"
  },
  "language_info": {
   "codemirror_mode": {
    "name": "ipython",
    "version": 3
   },
   "file_extension": ".py",
   "mimetype": "text/x-python",
   "name": "python",
   "nbconvert_exporter": "python",
   "pygments_lexer": "ipython3",
   "version": "3.6.10"
  }
 },
 "nbformat": 4,
 "nbformat_minor": 5
}
